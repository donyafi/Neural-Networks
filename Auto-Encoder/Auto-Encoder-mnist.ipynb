{
 "cells": [
  {
   "cell_type": "code",
   "execution_count": 1,
   "metadata": {},
   "outputs": [],
   "source": [
    "from keras.datasets import mnist\n",
    "from keras.callbacks import TensorBoard\n",
    "import tensorflow.keras as keras\n",
    "from tensorflow.keras import layers\n",
    "from tensorflow.keras.layers import InputLayer,Conv2D, Flatten, Dense,UpSampling2D\n",
    "import numpy as np\n",
    "import matplotlib.pyplot as plt\n",
    "import random"
   ]
  },
  {
   "cell_type": "markdown",
   "metadata": {},
   "source": [
    "Prepare dataset"
   ]
  },
  {
   "cell_type": "code",
   "execution_count": 2,
   "metadata": {},
   "outputs": [
    {
     "name": "stdout",
     "output_type": "stream",
     "text": [
      "(60000, 784) (10000, 784)\n"
     ]
    }
   ],
   "source": [
    "(x_train, _), (x_test, _) = mnist.load_data()\n",
    "x_train = x_train.astype('float32') / 255.\n",
    "x_test = x_test.astype('float32') / 255.    \n",
    "x_train = x_train.reshape((len(x_train), np.prod(x_train.shape[1:])))\n",
    "x_test = x_test.reshape((len(x_test), np.prod(x_test.shape[1:])))   \n",
    "print(x_train.shape,x_test.shape)\n"
   ]
  },
  {
   "cell_type": "markdown",
   "metadata": {},
   "source": [
    "Create network "
   ]
  },
  {
   "cell_type": "code",
   "execution_count": 9,
   "metadata": {},
   "outputs": [
    {
     "name": "stdout",
     "output_type": "stream",
     "text": [
      "Creating Network...\n",
      "Model: \"model_3\"\n",
      "_________________________________________________________________\n",
      " Layer (type)                Output Shape              Param #   \n",
      "=================================================================\n",
      " input_4 (InputLayer)        [(None, 784)]             0         \n",
      "                                                                 \n",
      " dense_24 (Dense)            (None, 400)               314000    \n",
      "                                                                 \n",
      " dense_25 (Dense)            (None, 300)               120300    \n",
      "                                                                 \n",
      " dense_26 (Dense)            (None, 150)               45150     \n",
      "                                                                 \n",
      " dense_27 (Dense)            (None, 65)                9815      \n",
      "                                                                 \n",
      " dense_28 (Dense)            (None, 150)               9900      \n",
      "                                                                 \n",
      " dense_29 (Dense)            (None, 300)               45300     \n",
      "                                                                 \n",
      " dense_30 (Dense)            (None, 400)               120400    \n",
      "                                                                 \n",
      " dense_31 (Dense)            (None, 784)               314384    \n",
      "                                                                 \n",
      "=================================================================\n",
      "Total params: 979,249\n",
      "Trainable params: 979,249\n",
      "Non-trainable params: 0\n",
      "_________________________________________________________________\n"
     ]
    }
   ],
   "source": [
    "print(\"Creating Network...\")\n",
    "input_img = layers.Input(shape=(784,)) #keras.Input(shape=(28, 28, 1))\n",
    "Encoder = layers.Dense(400, activation='relu')(input_img)\n",
    "Encoder = layers.Dense(300, activation='relu')(Encoder)\n",
    "Encoder = layers.Dense(150, activation='relu')(Encoder)\n",
    "LatentSpace = layers.Dense(65, activation='relu')(Encoder)#buttle neck layer\n",
    "\n",
    "# Decoder Definition\n",
    "Decoder = layers.Dense(150, activation='relu')(LatentSpace)\n",
    "Decoder = layers.Dense(300, activation='relu')(Decoder)\n",
    "Decoder = layers.Dense(400, activation='relu')(Decoder)\n",
    "decoded = layers.Dense(784, activation='relu')(Decoder)\n",
    "\n",
    "Model = keras.Model(input_img, decoded)\n",
    "Model.compile(optimizer='adam', loss='binary_crossentropy',metrics=['accuracy'])\n",
    "Model.summary()"
   ]
  },
  {
   "cell_type": "markdown",
   "metadata": {},
   "source": [
    "Recunstruction step"
   ]
  },
  {
   "cell_type": "code",
   "execution_count": 15,
   "metadata": {},
   "outputs": [
    {
     "name": "stdout",
     "output_type": "stream",
     "text": [
      "Training Network\n",
      "Epoch 1/10\n",
      "938/938 [==============================] - 43s 45ms/step - loss: 0.2917 - accuracy: 0.0100 - val_loss: 0.2816 - val_accuracy: 0.0092\n",
      "Epoch 2/10\n",
      "938/938 [==============================] - 45s 48ms/step - loss: 0.2819 - accuracy: 0.0087 - val_loss: 0.2581 - val_accuracy: 0.0082\n",
      "Epoch 3/10\n",
      "938/938 [==============================] - 46s 49ms/step - loss: 0.2657 - accuracy: 0.0096 - val_loss: 0.2938 - val_accuracy: 0.0102\n",
      "Epoch 4/10\n",
      "938/938 [==============================] - 51s 55ms/step - loss: 0.2640 - accuracy: 0.0082 - val_loss: 0.2586 - val_accuracy: 0.0090\n",
      "Epoch 5/10\n",
      "938/938 [==============================] - 47s 51ms/step - loss: 0.2627 - accuracy: 0.0109 - val_loss: 0.2594 - val_accuracy: 0.0086\n",
      "Epoch 6/10\n",
      "938/938 [==============================] - 44s 47ms/step - loss: 0.2669 - accuracy: 0.0096 - val_loss: 0.2618 - val_accuracy: 0.0071\n",
      "Epoch 7/10\n",
      "938/938 [==============================] - 47s 50ms/step - loss: 0.2684 - accuracy: 0.0088 - val_loss: 0.2647 - val_accuracy: 0.0093\n",
      "Epoch 8/10\n",
      "938/938 [==============================] - 44s 47ms/step - loss: 0.2571 - accuracy: 0.0097 - val_loss: 0.2524 - val_accuracy: 0.0091\n",
      "Epoch 9/10\n",
      "938/938 [==============================] - 45s 48ms/step - loss: 0.2664 - accuracy: 0.0095 - val_loss: 0.2533 - val_accuracy: 0.0122\n",
      "Epoch 10/10\n",
      "938/938 [==============================] - 45s 48ms/step - loss: 0.2657 - accuracy: 0.0118 - val_loss: 0.2680 - val_accuracy: 0.0072\n"
     ]
    }
   ],
   "source": [
    "print(\"Training Network\")\n",
    "history=Model.fit(x_train,x_train,\n",
    "            epochs=10,\n",
    "            batch_size=64,\n",
    "            validation_data=(x_test,x_test),\n",
    "            )"
   ]
  },
  {
   "cell_type": "markdown",
   "metadata": {},
   "source": [
    "accuracy and test report for reconstruction step"
   ]
  },
  {
   "cell_type": "code",
   "execution_count": 13,
   "metadata": {},
   "outputs": [
    {
     "data": {
      "image/png": "[encoded data removed]",
      "text/plain": [
       "<Figure size 432x288 with 1 Axes>"
      ]
     },
     "metadata": {
      "needs_background": "light"
     },
     "output_type": "display_data"
    }
   ],
   "source": [
    "plt.plot(history.history['accuracy'], label='acc', color='red')\n",
    "plt.plot(history.history['val_accuracy'], label='val_acc', color='green')\n",
    "plt.title('model accuracy')\n",
    "plt.ylabel('accuracy')\n",
    "plt.xlabel('epoch')\n",
    "plt.legend()\n",
    "plt.show()"
   ]
  },
  {
   "cell_type": "code",
   "execution_count": 14,
   "metadata": {},
   "outputs": [
    {
     "data": {
      "image/png": "[encoded data removed]",
      "text/plain": [
       "<Figure size 432x288 with 1 Axes>"
      ]
     },
     "metadata": {
      "needs_background": "light"
     },
     "output_type": "display_data"
    }
   ],
   "source": [
    "plt.plot(history.history['loss'], label='loss', color='red')\n",
    "plt.plot(history.history['val_loss'], label='val_loss', color='green')\n",
    "plt.title('model loss')\n",
    "plt.ylabel('loss')\n",
    "plt.xlabel('loss')\n",
    "plt.legend()\n",
    "plt.show()"
   ]
  },
  {
   "cell_type": "markdown",
   "metadata": {},
   "source": [
    "Displaying 0 to 9 images"
   ]
  },
  {
   "cell_type": "code",
   "execution_count": null,
   "metadata": {},
   "outputs": [],
   "source": [
    "def Display(Coded_Image,Reconstructed_Image,Original_Image):\n",
    "    print(\"Showing Images\")\n",
    "    plt.figure(figsize=(20, 2))\n",
    "    # Input\n",
    "    ax = plt.subplot(1, 3, 1)\n",
    "    plt.imshow(Damaged_Image.reshape(28, 28))\n",
    "    plt.gray()\n",
    "    plt.title(\"Damages_Image\")\n",
    "    ax.get_xaxis().set_visible(False)\n",
    "    ax.get_yaxis().set_visible(False)\n",
    "    # Original Image\n",
    "    ax = plt.subplot(1, 3, 2)\n",
    "    plt.imshow(Original_Image.reshape(28, 28))\n",
    "    plt.gray()\n",
    "    plt.title(\"Original_Image\")\n",
    "    ax.get_xaxis().set_visible(False)\n",
    "    ax.get_yaxis().set_visible(False)\n",
    "    #Recovered\n",
    "    ax = plt.subplot(1, 3, 3)\n",
    "    plt.imshow(Recovered_Image.reshape(28, 28))\n",
    "    plt.gray()\n",
    "    plt.title(\"Recovered_Image\")\n",
    "    ax.get_xaxis().set_visible(False)\n",
    "    ax.get_yaxis().set_visible(False)\n",
    "\n",
    "    plt.show()\n",
    "\n",
    "for i in [0,1,2,3,4,5,6,7,8,9]:\n",
    "    recovered= Model.predict(x_test[i])\n",
    "    Display( fault_images[i], recovered , originals[i])"
   ]
  }
 ],
 "metadata": {
  "interpreter": {
   "hash": "6c7ecd1d221b6d41596a6c992ff4eb48293873ae9bdd5ab951e201c12d30e9b9"
  },
  "kernelspec": {
   "display_name": "Python 3.9.7 ('base')",
   "language": "python",
   "name": "python3"
  },
  "language_info": {
   "codemirror_mode": {
    "name": "ipython",
    "version": 3
   },
   "file_extension": ".py",
   "mimetype": "text/x-python",
   "name": "python",
   "nbconvert_exporter": "python",
   "pygments_lexer": "ipython3",
   "version": "3.9.7"
  },
  "orig_nbformat": 4
 },
 "nbformat": 4,
 "nbformat_minor": 2
}
