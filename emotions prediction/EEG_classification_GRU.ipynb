{
  "cells": [
    {
      "cell_type": "code",
      "source": [
        "import numpy as np\n",
        "import pandas as pd\n",
        "import matplotlib.pyplot as plt\n",
        "import seaborn as sns\n",
        "from sklearn.model_selection import train_test_split\n",
        "import tensorflow as tf\n",
        "from sklearn.metrics import confusion_matrix, classification_report\n",
        "from sklearn.preprocessing import StandardScaler\n",
        "from tensorflow.keras import Sequential\n",
        "from tensorflow.keras.layers import Dense, Dropout\n",
        "from sklearn.metrics import accuracy_score\n"
      ],
      "metadata": {
        "id": "I3if0teaF-08"
      },
      "execution_count": 1,
      "outputs": []
    },
    {
      "cell_type": "markdown",
      "source": [
        "DATA"
      ],
      "metadata": {
        "id": "eWeIud2tGYEj"
      }
    },
    {
      "cell_type": "code",
      "source": [
        "df= pd.read_csv('/content/drive/MyDrive/emotions.csv')\n",
        "df = df.copy()\n",
        "encode = ({'NEUTRAL': 0, 'POSITIVE': 1, 'NEGATIVE': 2} )\n",
        "\n",
        "df['label'] = df['label'].replace(encode)\n",
        "\n",
        "y = df['label'].copy()\n",
        "x = df.drop('label', axis=1).copy()\n",
        "\n",
        "x_train, x_test, y_train, y_test = train_test_split(x, y, test_size = 0.2, random_state = 4)"
      ],
      "metadata": {
        "id": "EsECA95QGciu"
      },
      "execution_count": 6,
      "outputs": []
    },
    {
      "cell_type": "code",
      "source": [
        "x.info()"
      ],
      "metadata": {
        "colab": {
          "base_uri": "https://localhost:8080/"
        },
        "id": "R5TIRwEaXLHU",
        "outputId": "e14a1232-5cdc-41ce-bf78-692aa20c2511"
      },
      "execution_count": 19,
      "outputs": [
        {
          "output_type": "stream",
          "name": "stdout",
          "text": [
            "<class 'pandas.core.frame.DataFrame'>\n",
            "RangeIndex: 1266 entries, 0 to 1265\n",
            "Columns: 2548 entries, # mean_0_a to fft_749_b\n",
            "dtypes: float64(2547), object(1)\n",
            "memory usage: 24.6+ MB\n"
          ]
        }
      ]
    },
    {
      "cell_type": "code",
      "source": [
        "print(x_test.shape)"
      ],
      "metadata": {
        "colab": {
          "base_uri": "https://localhost:8080/"
        },
        "id": "PsmpswBNVGFC",
        "outputId": "e0989e12-0ced-49c6-85d0-82a12869b5c3"
      },
      "execution_count": 15,
      "outputs": [
        {
          "output_type": "stream",
          "name": "stdout",
          "text": [
            "(254, 2548)\n"
          ]
        }
      ]
    },
    {
      "cell_type": "code",
      "source": [
        "from google.colab import drive\n",
        "drive.mount('/content/drive')"
      ],
      "metadata": {
        "colab": {
          "base_uri": "https://localhost:8080/"
        },
        "id": "55cOmU54N7z6",
        "outputId": "b67d2036-2425-48cd-cb24-e43b355e2535"
      },
      "execution_count": 3,
      "outputs": [
        {
          "output_type": "stream",
          "name": "stdout",
          "text": [
            "Mounted at /content/drive\n"
          ]
        }
      ]
    },
    {
      "cell_type": "code",
      "source": [
        "df.info()"
      ],
      "metadata": {
        "colab": {
          "base_uri": "https://localhost:8080/"
        },
        "id": "vVdMIepYWPoZ",
        "outputId": "9bbaa31e-d175-4e88-93f9-821ebb95476b"
      },
      "execution_count": 17,
      "outputs": [
        {
          "output_type": "stream",
          "name": "stdout",
          "text": [
            "<class 'pandas.core.frame.DataFrame'>\n",
            "RangeIndex: 1266 entries, 0 to 1265\n",
            "Columns: 2549 entries, # mean_0_a to label\n",
            "dtypes: float64(2548), object(1)\n",
            "memory usage: 24.6+ MB\n"
          ]
        }
      ]
    },
    {
      "cell_type": "markdown",
      "source": [
        "GRU model"
      ],
      "metadata": {
        "id": "D1xeo_FkHo_b"
      }
    },
    {
      "cell_type": "code",
      "source": [
        "inputs = tf.keras.Input(shape=(x_train.shape[1],))\n",
        "expand_dims = tf.expand_dims(inputs, axis=2)\n",
        "gru = tf.keras.layers.GRU(256, return_sequences=True)(expand_dims)\n",
        "flatten = tf.keras.layers.Flatten()(gru)\n",
        "outputs = tf.keras.layers.Dense(3, activation='softmax')(flatten)\n",
        "\n",
        "model = tf.keras.Model(inputs=inputs, outputs=outputs)\n",
        "model.compile(optimizer='adam', loss='sparse_categorical_crossentropy', metrics=['accuracy'])\n"
      ],
      "metadata": {
        "id": "IP9STU8pHtU_"
      },
      "execution_count": 7,
      "outputs": []
    },
    {
      "cell_type": "code",
      "source": [
        "history = model.fit( x_train,  y_train, validation_data= (x_test, y_test), epochs=20)\n"
      ],
      "metadata": {
        "colab": {
          "base_uri": "https://localhost:8080/"
        },
        "id": "ok9umWgAIEYB",
        "outputId": "388285aa-b191-4f79-a8da-dcceea0e8603"
      },
      "execution_count": 8,
      "outputs": [
        {
          "output_type": "stream",
          "name": "stdout",
          "text": [
            "Epoch 1/20\n",
            "54/54 [==============================] - 13s 123ms/step - loss: 26.9138 - accuracy: 0.8235 - val_loss: 9.1336 - val_accuracy: 0.8595\n",
            "Epoch 2/20\n",
            "54/54 [==============================] - 6s 115ms/step - loss: 6.1623 - accuracy: 0.9255 - val_loss: 3.8046 - val_accuracy: 0.9251\n",
            "Epoch 3/20\n",
            "54/54 [==============================] - 6s 114ms/step - loss: 3.8957 - accuracy: 0.9396 - val_loss: 2.2477 - val_accuracy: 0.9532\n",
            "Epoch 4/20\n",
            "54/54 [==============================] - 6s 114ms/step - loss: 1.4624 - accuracy: 0.9648 - val_loss: 0.9143 - val_accuracy: 0.9742\n",
            "Epoch 5/20\n",
            "54/54 [==============================] - 6s 118ms/step - loss: 0.2207 - accuracy: 0.9930 - val_loss: 2.3495 - val_accuracy: 0.9672\n",
            "Epoch 6/20\n",
            "54/54 [==============================] - 6s 114ms/step - loss: 0.2784 - accuracy: 0.9883 - val_loss: 4.9859 - val_accuracy: 0.9063\n",
            "Epoch 7/20\n",
            "54/54 [==============================] - 6s 114ms/step - loss: 0.4235 - accuracy: 0.9906 - val_loss: 1.3434 - val_accuracy: 0.9742\n",
            "Epoch 8/20\n",
            "54/54 [==============================] - 7s 135ms/step - loss: 0.1610 - accuracy: 0.9947 - val_loss: 4.1939 - val_accuracy: 0.9532\n",
            "Epoch 9/20\n",
            "54/54 [==============================] - 6s 115ms/step - loss: 0.5256 - accuracy: 0.9883 - val_loss: 2.4475 - val_accuracy: 0.9672\n",
            "Epoch 10/20\n",
            "54/54 [==============================] - 6s 116ms/step - loss: 0.4396 - accuracy: 0.9883 - val_loss: 0.8039 - val_accuracy: 0.9742\n",
            "Epoch 11/20\n",
            "54/54 [==============================] - 6s 115ms/step - loss: 1.1942 - accuracy: 0.9818 - val_loss: 4.6419 - val_accuracy: 0.9438\n",
            "Epoch 12/20\n",
            "54/54 [==============================] - 6s 116ms/step - loss: 0.9681 - accuracy: 0.9848 - val_loss: 2.0308 - val_accuracy: 0.9766\n",
            "Epoch 13/20\n",
            "54/54 [==============================] - 6s 115ms/step - loss: 1.1194 - accuracy: 0.9853 - val_loss: 1.6051 - val_accuracy: 0.9766\n",
            "Epoch 14/20\n",
            "54/54 [==============================] - 7s 121ms/step - loss: 1.1768 - accuracy: 0.9871 - val_loss: 2.8650 - val_accuracy: 0.9742\n",
            "Epoch 15/20\n",
            "54/54 [==============================] - 6s 117ms/step - loss: 0.1349 - accuracy: 0.9977 - val_loss: 6.0171 - val_accuracy: 0.9649\n",
            "Epoch 16/20\n",
            "54/54 [==============================] - 6s 116ms/step - loss: 0.0551 - accuracy: 0.9988 - val_loss: 3.0470 - val_accuracy: 0.9719\n",
            "Epoch 17/20\n",
            "54/54 [==============================] - 6s 116ms/step - loss: 0.0000e+00 - accuracy: 1.0000 - val_loss: 3.0368 - val_accuracy: 0.9719\n",
            "Epoch 18/20\n",
            "54/54 [==============================] - 6s 117ms/step - loss: 0.0000e+00 - accuracy: 1.0000 - val_loss: 3.0367 - val_accuracy: 0.9719\n",
            "Epoch 19/20\n",
            "54/54 [==============================] - 6s 117ms/step - loss: 0.0000e+00 - accuracy: 1.0000 - val_loss: 3.0367 - val_accuracy: 0.9719\n",
            "Epoch 20/20\n",
            "54/54 [==============================] - 6s 116ms/step - loss: 0.0000e+00 - accuracy: 1.0000 - val_loss: 3.0367 - val_accuracy: 0.9719\n"
          ]
        }
      ]
    },
    {
      "cell_type": "markdown",
      "source": [
        "Evaluation"
      ],
      "metadata": {
        "id": "kOisMNUGkkMb"
      }
    },
    {
      "cell_type": "code",
      "source": [
        "score, acc = model.evaluate(x_test, y_test)"
      ],
      "metadata": {
        "colab": {
          "base_uri": "https://localhost:8080/"
        },
        "id": "5RnzkEJslCah",
        "outputId": "30f216d6-d583-4298-d9cb-0583474ebdde"
      },
      "execution_count": 9,
      "outputs": [
        {
          "output_type": "stream",
          "name": "stdout",
          "text": [
            "14/14 [==============================] - 1s 52ms/step - loss: 3.0367 - accuracy: 0.9719\n"
          ]
        }
      ]
    },
    {
      "cell_type": "code",
      "source": [
        "score, acc = model.evaluate(x_train, y_train)\n"
      ],
      "metadata": {
        "colab": {
          "base_uri": "https://localhost:8080/"
        },
        "id": "yIyX6-1sliZ7",
        "outputId": "0d178f3a-7350-4f23-e488-f07d2a837793"
      },
      "execution_count": 29,
      "outputs": [
        {
          "output_type": "stream",
          "name": "stdout",
          "text": [
            "54/54 [==============================] - 5s 98ms/step - loss: 0.0000e+00 - accuracy: 1.0000\n"
          ]
        }
      ]
    },
    {
      "cell_type": "code",
      "source": [
        "predict = model.predict(x_test)\n",
        "predicted_classes = np.argmax(predict,axis=1)\n",
        "print('the predicted class:',predicted_classes[0])\n",
        "print('the actual class:', y_test[1503])"
      ],
      "metadata": {
        "colab": {
          "base_uri": "https://localhost:8080/"
        },
        "id": "V587_04ZmD6y",
        "outputId": "3a4d3e38-fe75-4dc0-9e67-301acff6454d"
      },
      "execution_count": 28,
      "outputs": [
        {
          "output_type": "stream",
          "name": "stdout",
          "text": [
            "the predicted class: 1\n",
            "the actual class: 1\n"
          ]
        }
      ]
    },
    {
      "cell_type": "code",
      "source": [
        "# encode = ({'NEUTRAL': 0, 'POSITIVE': 1, 'NEGATIVE': 2} )\n",
        "\n",
        "y_pred = np.argmax(model.predict(x_test),axis=1)\n",
        "# y_test = np.argmax(y_test,axis=1)\n",
        "\n",
        "cm=confusion_matrix(y_test, y_pred)\n",
        "print('Confusion Matrix')\n",
        "print(cm)\n",
        "\n",
        "\n",
        "plt.figure(figsize=(8, 8))\n",
        "sns.heatmap(cm, annot=True, vmin=0, fmt='g', cbar=False, cmap='Blues')\n",
        "plt.xticks(np.arange(3) + 0.5, encode.keys())\n",
        "plt.yticks(np.arange(3) + 0.5, encode.keys())\n",
        "plt.xlabel(\"Predicted\")\n",
        "plt.ylabel(\"Actual\")\n",
        "plt.title(\"Confusion Matrix\")\n",
        "plt.show()"
      ],
      "metadata": {
        "colab": {
          "base_uri": "https://localhost:8080/",
          "height": 582
        },
        "id": "5Hu--g-QmGrV",
        "outputId": "7902b356-72be-471a-a934-f38c3ec6c534"
      },
      "execution_count": 16,
      "outputs": [
        {
          "output_type": "stream",
          "name": "stdout",
          "text": [
            "Confusion Matrix\n",
            "[[150   3   0]\n",
            " [  0 138   4]\n",
            " [  0   1 131]]\n"
          ]
        },
        {
          "output_type": "display_data",
          "data": {
            "text/plain": [
              "<Figure size 576x576 with 1 Axes>"
            ],
            "image/png": "[encoded data removed]"
          },
          "metadata": {
            "needs_background": "light"
          }
        }
      ]
    },
    {
      "cell_type": "code",
      "source": [
        "clr = classification_report(y_test, y_pred, target_names=encode.keys())\n",
        "print(\"Classification Report:\\n----------------------\\n\", clr)"
      ],
      "metadata": {
        "colab": {
          "base_uri": "https://localhost:8080/"
        },
        "id": "RFMjR1eLmKZ7",
        "outputId": "1235d750-6e72-4393-91a0-8c79d86eb452"
      },
      "execution_count": 17,
      "outputs": [
        {
          "output_type": "stream",
          "name": "stdout",
          "text": [
            "Classification Report:\n",
            "----------------------\n",
            "               precision    recall  f1-score   support\n",
            "\n",
            "     NEUTRAL       1.00      0.98      0.99       153\n",
            "    POSITIVE       0.97      0.97      0.97       142\n",
            "    NEGATIVE       0.97      0.99      0.98       132\n",
            "\n",
            "    accuracy                           0.98       427\n",
            "   macro avg       0.98      0.98      0.98       427\n",
            "weighted avg       0.98      0.98      0.98       427\n",
            "\n"
          ]
        }
      ]
    }
  ],
  "metadata": {
    "interpreter": {
      "hash": "6c7ecd1d221b6d41596a6c992ff4eb48293873ae9bdd5ab951e201c12d30e9b9"
    },
    "kernelspec": {
      "display_name": "Python 3.9.7 ('base')",
      "language": "python",
      "name": "python3"
    },
    "language_info": {
      "codemirror_mode": {
        "name": "ipython",
        "version": 3
      },
      "file_extension": ".py",
      "mimetype": "text/x-python",
      "name": "python",
      "nbconvert_exporter": "python",
      "pygments_lexer": "ipython3",
      "version": "3.9.7"
    },
    "orig_nbformat": 4,
    "colab": {
      "name": "EEG_classification.ipynb",
      "provenance": [],
      "collapsed_sections": []
    },
    "accelerator": "GPU",
    "gpuClass": "standard"
  },
  "nbformat": 4,
  "nbformat_minor": 0
}